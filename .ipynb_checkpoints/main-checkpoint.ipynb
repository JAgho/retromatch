{
 "cells": [
  {
   "cell_type": "code",
   "execution_count": null,
   "id": "d8d7a05b-c692-4626-9da5-bae392d98a2b",
   "metadata": {},
   "outputs": [],
   "source": [
    "##### This script should run everything, from recording to analysis\n",
    "##### Stages:\n",
    "##### 1) Recording\n",
    "#####   a) Pulse oximeter readings, generating paired timing and amplitude data\n",
    "#####   b) Audio data from the scanner - we're going to pretend that we did this as it'll take too long\n",
    "##### 2) Analysis\n",
    "#####   a) Audio waveform identification of onset and chunking - label timepoints when the sequence starts, likewise when individual blocks within it are\n",
    "#####   b) Pulse oximeter waveform peak detection / attribution of specific cardiac phase"
   ]
  },
  {
   "cell_type": "code",
   "execution_count": null,
   "id": "fc4648db-e47d-4d4c-8b04-b5a20092efa5",
   "metadata": {},
   "outputs": [],
   "source": [
    "import record_audio\n",
    "import "
   ]
  }
 ],
 "metadata": {
  "kernelspec": {
   "display_name": "Python 3 (ipykernel)",
   "language": "python",
   "name": "python3"
  },
  "language_info": {
   "codemirror_mode": {
    "name": "ipython",
    "version": 3
   },
   "file_extension": ".py",
   "mimetype": "text/x-python",
   "name": "python",
   "nbconvert_exporter": "python",
   "pygments_lexer": "ipython3",
   "version": "3.13.2"
  }
 },
 "nbformat": 4,
 "nbformat_minor": 5
}
