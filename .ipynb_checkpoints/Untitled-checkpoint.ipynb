{
 "cells": [
  {
   "cell_type": "code",
   "execution_count": 1,
   "id": "faabf85f-19bb-4671-8ea1-48e0ba0da87a",
   "metadata": {},
   "outputs": [],
   "source": [
    "import wave\n",
    "import sys\n",
    "\n",
    "import pyaudio\n",
    "CHUNK = 1024\n",
    "FORMAT = pyaudio.paInt16\n",
    "CHANNELS = 2\n",
    "RATE = 44100\n",
    "RECORD_SECONDS = 5\n",
    "WAVE_OUTPUT_FILENAME = \"record.wav\""
   ]
  },
  {
   "cell_type": "code",
   "execution_count": 3,
   "id": "c84871b9-9fb8-4bf6-9d3f-ec8a9a37f781",
   "metadata": {},
   "outputs": [],
   "source": [
    "p= pyaudio.PyAudio()"
   ]
  },
  {
   "cell_type": "code",
   "execution_count": null,
   "id": "9f55fec1-646b-49d4-8c57-a21f25338f7b",
   "metadata": {},
   "outputs": [],
   "source": [
    "p.open()"
   ]
  }
 ],
 "metadata": {
  "kernelspec": {
   "display_name": "Python 3 (ipykernel)",
   "language": "python",
   "name": "python3"
  },
  "language_info": {
   "codemirror_mode": {
    "name": "ipython",
    "version": 3
   },
   "file_extension": ".py",
   "mimetype": "text/x-python",
   "name": "python",
   "nbconvert_exporter": "python",
   "pygments_lexer": "ipython3",
   "version": "3.13.2"
  }
 },
 "nbformat": 4,
 "nbformat_minor": 5
}
