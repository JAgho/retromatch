{
 "cells": [
  {
   "cell_type": "code",
   "execution_count": 10,
   "id": "faabf85f-19bb-4671-8ea1-48e0ba0da87a",
   "metadata": {},
   "outputs": [],
   "source": [
    "import wave\n",
    "import sys\n",
    "\n",
    "import pyaudio\n",
    "import math\n",
    "CHUNK = 1024\n",
    "FORMAT = pyaudio.paInt16\n",
    "CHANNELS = 2\n",
    "RATE = 44100\n",
    "RECORD_SECONDS = 5\n",
    "WAVE_OUTPUT_FILENAME = \"record.wav\""
   ]
  },
  {
   "cell_type": "code",
   "execution_count": 3,
   "id": "c84871b9-9fb8-4bf6-9d3f-ec8a9a37f781",
   "metadata": {},
   "outputs": [],
   "source": [
    "p= pyaudio.PyAudio()"
   ]
  },
  {
   "cell_type": "code",
   "execution_count": 6,
   "id": "e446639f-80f7-4505-baa6-99a5a131e094",
   "metadata": {},
   "outputs": [
    {
     "name": "stdout",
     "output_type": "stream",
     "text": [
      "----------------------record device list---------------------\n",
      "Input Device id  0  -  Microsoft Sound Mapper - Input\n",
      "Input Device id  1  -  Microphone Array (Realtek(R) Au\n",
      "-------------------------------------------------------------\n"
     ]
    }
   ],
   "source": [
    "print(\"----------------------record device list---------------------\")\n",
    "info = p.get_host_api_info_by_index(0)\n",
    "numdevices = info.get('deviceCount')\n",
    "for i in range(0, numdevices):\n",
    "        if (p.get_device_info_by_host_api_device_index(0, i).get('maxInputChannels')) > 0:\n",
    "            print(\"Input Device id \", i, \" - \", p.get_device_info_by_host_api_device_index(0, i).get('name'))\n",
    "\n",
    "print(\"-------------------------------------------------------------\")\n"
   ]
  },
  {
   "cell_type": "code",
   "execution_count": 11,
   "id": "d7a82cda-3319-4da6-a3e6-1c42a96cb3b1",
   "metadata": {},
   "outputs": [],
   "source": [
    "stream = p.open(format=FORMAT, channels=CHANNELS,\n",
    "                rate=RATE, input=True,input_device_index = 1,\n",
    "                frames_per_buffer=CHUNK)"
   ]
  },
  {
   "cell_type": "code",
   "execution_count": 12,
   "id": "9f55fec1-646b-49d4-8c57-a21f25338f7b",
   "metadata": {},
   "outputs": [
    {
     "name": "stdout",
     "output_type": "stream",
     "text": [
      "recording started\n",
      "recording stopped\n"
     ]
    }
   ],
   "source": [
    "print (\"recording started\")\n",
    "Recordframes = []\n",
    " \n",
    "for i in range(0, math.ceil(RATE / CHUNK * RECORD_SECONDS)):\n",
    "    data = stream.read(CHUNK)\n",
    "    Recordframes.append(data)\n",
    "print (\"recording stopped\")"
   ]
  },
  {
   "cell_type": "code",
   "execution_count": 13,
   "id": "81776cc1-f792-4d58-8d70-ee3b1f3b9fd6",
   "metadata": {},
   "outputs": [],
   "source": [
    "stream.stop_stream()\n",
    "stream.close()\n",
    "p.terminate()"
   ]
  },
  {
   "cell_type": "code",
   "execution_count": 14,
   "id": "2e1990c3-2a5b-4f76-9721-cfe3bceea907",
   "metadata": {},
   "outputs": [],
   "source": [
    "waveFile = wave.open(WAVE_OUTPUT_FILENAME, 'wb')\n",
    "waveFile.setnchannels(CHANNELS)\n",
    "waveFile.setsampwidth(p.get_sample_size(FORMAT))\n",
    "waveFile.setframerate(RATE)\n",
    "waveFile.writeframes(b''.join(Recordframes))\n",
    "waveFile.close()"
   ]
  },
  {
   "cell_type": "code",
   "execution_count": 7,
   "id": "e7a7d1b6-294b-4f59-99a4-bba747aab526",
   "metadata": {},
   "outputs": [
    {
     "data": {
      "text/plain": [
       "1440000"
      ]
     },
     "execution_count": 7,
     "metadata": {},
     "output_type": "execute_result"
    }
   ],
   "source": [
    "50*3600*8"
   ]
  }
 ],
 "metadata": {
  "kernelspec": {
   "display_name": "Python 3 (ipykernel)",
   "language": "python",
   "name": "python3"
  },
  "language_info": {
   "codemirror_mode": {
    "name": "ipython",
    "version": 3
   },
   "file_extension": ".py",
   "mimetype": "text/x-python",
   "name": "python",
   "nbconvert_exporter": "python",
   "pygments_lexer": "ipython3",
   "version": "3.13.2"
  }
 },
 "nbformat": 4,
 "nbformat_minor": 5
}
